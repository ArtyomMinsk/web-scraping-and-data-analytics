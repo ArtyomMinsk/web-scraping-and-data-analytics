{
 "cells": [
  {
   "cell_type": "code",
   "execution_count": 129,
   "metadata": {
    "collapsed": true
   },
   "outputs": [],
   "source": [
    "import requests\n",
    "from bs4 import BeautifulSoup\n",
    "import matplotlib.pyplot as plt\n",
    "%matplotlib inline"
   ]
  },
  {
   "cell_type": "code",
   "execution_count": 130,
   "metadata": {},
   "outputs": [],
   "source": [
    "url = \"https://xl-soccer-world.ezleagues.ezfacility.com/leagues/293178/Spring-2017---Men%27s-A-League.aspx#standings\"\n",
    "r = requests.get(url)"
   ]
  },
  {
   "cell_type": "code",
   "execution_count": 131,
   "metadata": {},
   "outputs": [],
   "source": [
    "soup = BeautifulSoup(r.content, \"html5lib\")"
   ]
  },
  {
   "cell_type": "code",
   "execution_count": 132,
   "metadata": {
    "collapsed": true
   },
   "outputs": [],
   "source": [
    "table = soup.find(\"table\", {\"id\": \"ctl00_C_Schedule1_GridView1\"})\n",
    "table_rows = table.find_all(\"tr\", {\"class\": [\"RowStyle\", \"AlternateRowStyle\"]})"
   ]
  },
  {
   "cell_type": "code",
   "execution_count": 133,
   "metadata": {
    "collapsed": true
   },
   "outputs": [],
   "source": [
    "games = []\n",
    "for tr in table_rows:\n",
    "    td = tr.find_all(\"td\")\n",
    "    row = [i.text.strip() for i in td][:4]\n",
    "    if 'Inter' in row:\n",
    "        games.append(row)"
   ]
  },
  {
   "cell_type": "code",
   "execution_count": 134,
   "metadata": {},
   "outputs": [
    {
     "name": "stdout",
     "output_type": "stream",
     "text": [
      "['Tue-Mar 14', 'ABCDE FC', '4 - 7', 'Inter']\n",
      "['Tue-Mar 21', 'El Camino Bandidos', '8 - 7', 'Inter']\n",
      "['Tue-Mar 28', 'Inter', '4 - 5', 'Two Buck Chuck']\n",
      "['Tue-Apr 4', 'Inter', '4 - 5', 'ABCDE FC']\n",
      "['Tue-Apr 11', 'Inter', 'v', 'El Camino Bandidos']\n",
      "['Tue-Apr 18', 'Two Buck Chuck', 'v', 'Inter']\n",
      "['Tue-Apr 25', 'Inter', 'v', 'ABCDE FC']\n"
     ]
    }
   ],
   "source": [
    "print(*games, sep='\\n')"
   ]
  },
  {
   "cell_type": "code",
   "execution_count": 135,
   "metadata": {
    "collapsed": true
   },
   "outputs": [],
   "source": [
    "goles_scored = []\n",
    "win_lose = []\n",
    "for game in games:\n",
    "    if game[2] != 'v' and game[3] == 'Inter':\n",
    "        goles_scored.append(int(game[2][-1]))\n",
    "        if int(game[2][-1]) > int(game[2][0]):\n",
    "            win_lose.append('win')\n",
    "        elif int(game[2][-1]) < int(game[2][0]):\n",
    "            win_lose.append('loss')\n",
    "        else:\n",
    "            win_lose.append('tie')\n",
    "    elif game[2] != 'v' and game[1] == 'Inter':\n",
    "        goles_scored.append(int(game[2][0]))\n",
    "        if int(game[2][-1]) > int(game[2][0]):\n",
    "            win_lose.append('loss')\n",
    "        elif int(game[2][-1]) < int(game[2][0]):\n",
    "            win_lose.append('win')\n",
    "        else:\n",
    "            win_lose.append('tie')\n",
    "    \n",
    "all_goals = sum(goles_scored)"
   ]
  },
  {
   "cell_type": "code",
   "execution_count": 136,
   "metadata": {},
   "outputs": [
    {
     "name": "stdout",
     "output_type": "stream",
     "text": [
      "[7, 7, 4, 4]\n",
      "['win', 'loss', 'loss', 'loss']\n",
      "22\n"
     ]
    }
   ],
   "source": [
    "print(goles_scored)\n",
    "print(win_lose)\n",
    "print(sum(goles_scored))"
   ]
  },
  {
   "cell_type": "code",
   "execution_count": 137,
   "metadata": {},
   "outputs": [
    {
     "name": "stdout",
     "output_type": "stream",
     "text": [
      "4\n"
     ]
    }
   ],
   "source": [
    "games_played = []\n",
    "for idx, value in enumerate(goles_scored):\n",
    "    games_played.append(idx + 1)\n",
    "print(games_played[-1])"
   ]
  },
  {
   "cell_type": "code",
   "execution_count": 138,
   "metadata": {},
   "outputs": [
    {
     "data": {
      "image/png": "[encoded data removed]",
      "text/plain": [
       "<matplotlib.figure.Figure at 0x110e72860>"
      ]
     },
     "metadata": {},
     "output_type": "display_data"
    }
   ],
   "source": [
    "labels = []\n",
    "col = []\n",
    "for i in range(len(games)):\n",
    "    labels.append('Game ' + str(i + 1))\n",
    "\n",
    "for result in win_lose:\n",
    "    if result == \"win\":\n",
    "        col.append('r')\n",
    "    elif result == \"loss\":\n",
    "        col.append('y')\n",
    "    else:\n",
    "        col.append('b')\n",
    "        \n",
    "bars = plt.bar(games_played, goles_scored, width, color=col)\n",
    "plt.title('Goals Statistics')\n",
    "plt.xlabel('Games')\n",
    "plt.ylabel('Goals')\n",
    "plt.yticks(range(0, max(goles_scored) + 3))\n",
    "plt.xticks(games_played, labels)\n",
    "\n",
    "plt.legend(bars, ('Win', 'Loss'))\n",
    "\n",
    "def autolabel(bars):\n",
    "    for rect in bars:\n",
    "        height = rect.get_height()\n",
    "        plt.text(rect.get_x() + rect.get_width()/2., 1.05*height,\n",
    "                '%d' % int(height),\n",
    "                ha='center', va='bottom')\n",
    "\n",
    "autolabel(bars)\n",
    "\n",
    "plt.show()"
   ]
  },
  {
   "cell_type": "code",
   "execution_count": null,
   "metadata": {
    "collapsed": true
   },
   "outputs": [],
   "source": []
  }
 ],
 "metadata": {
  "kernelspec": {
   "display_name": "Python 3",
   "language": "python",
   "name": "python3"
  },
  "language_info": {
   "codemirror_mode": {
    "name": "ipython",
    "version": 3
   },
   "file_extension": ".py",
   "mimetype": "text/x-python",
   "name": "python",
   "nbconvert_exporter": "python",
   "pygments_lexer": "ipython3",
   "version": "3.5.1"
  }
 },
 "nbformat": 4,
 "nbformat_minor": 2
}
